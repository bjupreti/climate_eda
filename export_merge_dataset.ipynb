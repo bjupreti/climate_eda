{
 "cells": [
  {
   "cell_type": "code",
   "execution_count": 1,
   "metadata": {},
   "outputs": [],
   "source": [
    "# imports\n",
    "import datetime as dt\n",
    "\n",
    "import pandas as pd\n",
    "from matplotlib import pyplot as plt\n",
    "from pandas_profiling import ProfileReport"
   ]
  },
  {
   "cell_type": "code",
   "execution_count": 2,
   "metadata": {},
   "outputs": [],
   "source": [
    "# Cities.csv has demographics information about Canadian cities and about urban population.\n",
    "cities_df = pd.read_csv('./cities.csv')\n",
    "\n",
    "# Climate.csv has weather information for few cities from weather stations around Canada.\n",
    "climate_df = pd.read_csv('./climate.csv')"
   ]
  },
  {
   "cell_type": "code",
   "execution_count": 3,
   "metadata": {},
   "outputs": [],
   "source": [
    "# converting latitudes and longitudes to integer as it will be easier to compare integers while merging two dataframes\n",
    "cities_df['lat_int'] = (cities_df['lat'] * 10).astype(int)\n",
    "cities_df['lng_int'] = (cities_df['lng'] * 10).astype(int)\n",
    "climate_df['lat_int'] = (climate_df['lat'] * 10).astype(int)\n",
    "climate_df['lng_int'] = (climate_df['lng'] * 10).astype(int)"
   ]
  },
  {
   "cell_type": "code",
   "execution_count": 6,
   "metadata": {},
   "outputs": [],
   "source": [
    "urban_climate_df = pd.merge(climate_df, cities_df[['lat_int', 'lng_int', 'city', 'population', 'admin']], on=['lat_int', 'lng_int'])\n",
    "urban_climate_df.to_csv('urban_climate.csv')"
   ]
  }
 ],
 "metadata": {
  "kernelspec": {
   "display_name": "Python 3",
   "language": "python",
   "name": "python3"
  },
  "language_info": {
   "codemirror_mode": {
    "name": "ipython",
    "version": 3
   },
   "file_extension": ".py",
   "mimetype": "text/x-python",
   "name": "python",
   "nbconvert_exporter": "python",
   "pygments_lexer": "ipython3",
   "version": "3.8.5"
  }
 },
 "nbformat": 4,
 "nbformat_minor": 4
}
